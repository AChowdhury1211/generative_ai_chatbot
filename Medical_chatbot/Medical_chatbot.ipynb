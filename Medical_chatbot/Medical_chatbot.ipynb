{
 "cells": [
  {
   "cell_type": "code",
   "execution_count": 30,
   "metadata": {},
   "outputs": [],
   "source": [
    "from langchain import PromptTemplate\n",
    "from langchain.chains import RetrievalQA\n",
    "from langchain.embeddings import HuggingFaceEmbeddings\n",
    "from langchain.vectorstores import Pinecone\n",
    "import pinecone\n",
    "from langchain.document_loaders import PyPDFLoader, DirectoryLoader\n",
    "from langchain.text_splitter import RecursiveCharacterTextSplitter\n",
    "from langchain.prompts import PromptTemplate\n",
    "from tqdm.autonotebook import tqdm\n",
    "from pinecone import Pinecone"
   ]
  },
  {
   "cell_type": "code",
   "execution_count": 11,
   "metadata": {},
   "outputs": [
    {
     "name": "stdout",
     "output_type": "stream",
     "text": [
      "/config/workspace/Medical_chatbot\n"
     ]
    }
   ],
   "source": [
    "import os\n",
    "!pwd"
   ]
  },
  {
   "cell_type": "code",
   "execution_count": 14,
   "metadata": {},
   "outputs": [],
   "source": [
    "parent_dir = \"/config/workspace/Medical_chatbot\"\n",
    "data_dir = \"data\"\n",
    "path = os.path.join(parent_dir, data_dir)"
   ]
  },
  {
   "cell_type": "code",
   "execution_count": null,
   "metadata": {},
   "outputs": [],
   "source": [
    "os.mkdir(path)"
   ]
  },
  {
   "cell_type": "code",
   "execution_count": 6,
   "metadata": {},
   "outputs": [
    {
     "name": "stdout",
     "output_type": "stream",
     "text": [
      "--2024-06-04 18:29:18--  https://www.ruseducation.in/books/Fundamentals-Neurology.pdf\n",
      "Resolving www.ruseducation.in (www.ruseducation.in)... 192.124.249.183\n",
      "Connecting to www.ruseducation.in (www.ruseducation.in)|192.124.249.183|:443... connected.\n",
      "HTTP request sent, awaiting response... 200 OK\n",
      "Length: 32376969 (31M) [application/pdf]\n",
      "Saving to: ‘./data/Fundamentals-Neurology.pdf’\n",
      "\n",
      "Fundamentals-Neurol 100%[===================>]  30.88M  6.72MB/s    in 7.7s    \n",
      "\n",
      "2024-06-04 18:29:27 (4.01 MB/s) - ‘./data/Fundamentals-Neurology.pdf’ saved [32376969/32376969]\n",
      "\n"
     ]
    }
   ],
   "source": [
    "!wget -P ./data https://www.ruseducation.in/books/Fundamentals-Neurology.pdf"
   ]
  },
  {
   "cell_type": "code",
   "execution_count": 12,
   "metadata": {},
   "outputs": [],
   "source": [
    "def load_pdf(path):\n",
    "    loader = DirectoryLoader(path = path, glob= \"*.pdf\", loader_cls= PyPDFLoader)\n",
    "    doc = loader.load()\n",
    "\n",
    "    return doc"
   ]
  },
  {
   "cell_type": "code",
   "execution_count": 15,
   "metadata": {},
   "outputs": [
    {
     "data": {
      "text/plain": [
       "'/config/workspace/Medical_chatbot/data'"
      ]
     },
     "execution_count": 15,
     "metadata": {},
     "output_type": "execute_result"
    }
   ],
   "source": [
    "path"
   ]
  },
  {
   "cell_type": "code",
   "execution_count": 16,
   "metadata": {},
   "outputs": [],
   "source": [
    "book = load_pdf(path)"
   ]
  },
  {
   "cell_type": "code",
   "execution_count": 23,
   "metadata": {},
   "outputs": [],
   "source": [
    "def text_split(book: list) -> list:\n",
    "    split_text = RecursiveCharacterTextSplitter(chunk_size = 400, chunk_overlap = 30)\n",
    "    text_chunks = split_text.split_documents(book)\n",
    "\n",
    "    return text_chunks"
   ]
  },
  {
   "cell_type": "code",
   "execution_count": 24,
   "metadata": {},
   "outputs": [
    {
     "data": {
      "text/plain": [
       "3227"
      ]
     },
     "execution_count": 24,
     "metadata": {},
     "output_type": "execute_result"
    }
   ],
   "source": [
    "text_chunks = text_split(book)\n",
    "len(text_chunks)"
   ]
  },
  {
   "cell_type": "code",
   "execution_count": 25,
   "metadata": {},
   "outputs": [
    {
     "name": "stderr",
     "output_type": "stream",
     "text": [
      "/config/.local/lib/python3.8/site-packages/huggingface_hub/file_download.py:1132: FutureWarning: `resume_download` is deprecated and will be removed in version 1.0.0. Downloads always resume when possible. If you want to force a new download, use `force_download=True`.\n",
      "  warnings.warn(\n"
     ]
    }
   ],
   "source": [
    "emb = HuggingFaceEmbeddings(model_name= \"sentence-transformers/all-MiniLM-L6-v2\")"
   ]
  },
  {
   "cell_type": "code",
   "execution_count": 26,
   "metadata": {},
   "outputs": [],
   "source": [
    "query = emb.embed_query(\"What is the capital of France?\")"
   ]
  },
  {
   "cell_type": "code",
   "execution_count": 27,
   "metadata": {},
   "outputs": [
    {
     "data": {
      "text/plain": [
       "list"
      ]
     },
     "execution_count": 27,
     "metadata": {},
     "output_type": "execute_result"
    }
   ],
   "source": [
    "type(query)"
   ]
  },
  {
   "cell_type": "code",
   "execution_count": 29,
   "metadata": {},
   "outputs": [
    {
     "data": {
      "text/plain": [
       "384"
      ]
     },
     "execution_count": 29,
     "metadata": {},
     "output_type": "execute_result"
    }
   ],
   "source": [
    "len(query)"
   ]
  },
  {
   "cell_type": "code",
   "execution_count": 51,
   "metadata": {},
   "outputs": [
    {
     "data": {
      "text/plain": [
       "True"
      ]
     },
     "execution_count": 51,
     "metadata": {},
     "output_type": "execute_result"
    }
   ],
   "source": [
    "from dotenv import load_dotenv\n",
    "load_dotenv()"
   ]
  },
  {
   "cell_type": "code",
   "execution_count": 52,
   "metadata": {},
   "outputs": [],
   "source": [
    "pc = Pinecone(api_key= os.environ.get(\"PINECONE_API_KEY\"))"
   ]
  },
  {
   "cell_type": "code",
   "execution_count": 34,
   "metadata": {},
   "outputs": [],
   "source": [
    "from pinecone import ServerlessSpec"
   ]
  },
  {
   "cell_type": "code",
   "execution_count": 35,
   "metadata": {},
   "outputs": [],
   "source": [
    "cloud = \"aws\"\n",
    "region = \"us-east-1\""
   ]
  },
  {
   "cell_type": "code",
   "execution_count": 36,
   "metadata": {},
   "outputs": [],
   "source": [
    "spec = ServerlessSpec(cloud= cloud, region=region)"
   ]
  },
  {
   "cell_type": "code",
   "execution_count": 46,
   "metadata": {},
   "outputs": [],
   "source": [
    "#pc.delete_index(\"demo-index\")"
   ]
  },
  {
   "cell_type": "code",
   "execution_count": 40,
   "metadata": {},
   "outputs": [],
   "source": [
    "index_name = \"medical-chatbot\"\n",
    "\n",
    "if index_name not in pc.list_indexes().names():\n",
    "    pc.create_index(name = index_name, dimension= 384, metric=\"cosine\", spec = spec)"
   ]
  },
  {
   "cell_type": "code",
   "execution_count": 43,
   "metadata": {},
   "outputs": [],
   "source": [
    "from langchain_pinecone import PineconeVectorStore"
   ]
  },
  {
   "cell_type": "code",
   "execution_count": 53,
   "metadata": {},
   "outputs": [],
   "source": [
    "namespace = \"try-1\"\n",
    "\n",
    "\n",
    "docsearch = PineconeVectorStore.from_texts(texts= [i.page_content for i in text_chunks], index_name= index_name, embedding= emb, namespace=namespace)"
   ]
  },
  {
   "cell_type": "code",
   "execution_count": 58,
   "metadata": {},
   "outputs": [],
   "source": [
    "index = pc.Index(index_name)"
   ]
  },
  {
   "cell_type": "code",
   "execution_count": 59,
   "metadata": {},
   "outputs": [
    {
     "data": {
      "text/plain": [
       "{'dimension': 384,\n",
       " 'index_fullness': 0.0,\n",
       " 'namespaces': {'try-1': {'vector_count': 3803}},\n",
       " 'total_vector_count': 3803}"
      ]
     },
     "execution_count": 59,
     "metadata": {},
     "output_type": "execute_result"
    }
   ],
   "source": [
    "index.describe_index_stats()"
   ]
  },
  {
   "cell_type": "code",
   "execution_count": 64,
   "metadata": {},
   "outputs": [
    {
     "name": "stdout",
     "output_type": "stream",
     "text": [
      "[Document(page_content='and tension-type headache.\\nSymptomatic Headache\\nSymptomatic headache is due to a structural lesion, in-\\nfection, or inflammation of intra- and/or extracranial\\ntissue. Its direct cause is often a pathological alteration of\\nintracranial pressure, which excites nociceptive nerve\\nendings in the meninges. The ICP may be either too high'), Document(page_content='head and/or facial pain, which may be quite severe. Even\\ndiseases of the cervical spine can, rarely, produce head-\\nache (spondylogenic headache).\\nTable 13.7 provides an overview of the major causes of\\nsymptomatic headache. We will describe a few of the\\ncausative neurological illnesses and spondylogenic\\nheadache, in detail in the following paragraphs.\\nOcclusions and Dissections of Cranial Vessels'), Document(page_content='(particularly because of space-occupying lesions such ashematomas, tumors, and hydrocephalus) or too low\\n(e. g., in the intracranial hypotension syndrome after a\\nlumbar puncture).\\nSymptomatic headache, however, is not necessarily\\ndue to neurological disease. Pathological conditions of\\nthe ears, nose, throat, eyes ,teeth ,or jaw can also cause'), Document(page_content='as well as diseases of the eyes, teeth, jaw, ear, nose,and throat. Spondylogenic headache is caused by\\npathological processes in the cervical spine.Headache can also include a variably significant com-\\nponent of facial pain—a typical example is cluster head-\\nache, in which the pain is felt mainly in the forehead,')]\n"
     ]
    }
   ],
   "source": [
    "query = \"Why am I having headaches\"\n",
    "res = docsearch.similarity_search(query= query, k =4)\n",
    "print(res)"
   ]
  },
  {
   "cell_type": "code",
   "execution_count": 87,
   "metadata": {},
   "outputs": [],
   "source": [
    "from transformers import AutoTokenizer, AutoModelForCausalLM\n",
    "\n",
    "tokenizer = AutoTokenizer.from_pretrained(\"distilbert/distilgpt2\")\n",
    "model = AutoModelForCausalLM.from_pretrained(\"distilbert/distilgpt2\")\n",
    "\n",
    "from langchain_huggingface.llms import HuggingFacePipeline\n",
    "from transformers import pipeline, set_seed\n",
    "pipe = pipeline(\"text-generation\", model = model, tokenizer = tokenizer, max_new_tokens = 300, num_return_sequences = 1 )\n",
    "set_seed(42)\n",
    "llm = HuggingFacePipeline(pipeline=pipe)"
   ]
  },
  {
   "cell_type": "code",
   "execution_count": 88,
   "metadata": {},
   "outputs": [],
   "source": [
    "prompt_template=\"\"\"\n",
    "Use the following pieces of information to answer the user's question.\n",
    "If you don't know the answer, just say that you don't know, don't try to make up an answer.\n",
    "\n",
    "Question: {question}\n",
    "\n",
    "Only return the helpful answer below and nothing else.\n",
    "Helpful answer:\n",
    "\"\"\""
   ]
  },
  {
   "cell_type": "code",
   "execution_count": 89,
   "metadata": {},
   "outputs": [],
   "source": [
    "prompt = PromptTemplate.from_template(prompt_template)\n",
    "#chain_type_kwargs = {\"prompt\" : prompt}"
   ]
  },
  {
   "cell_type": "code",
   "execution_count": 111,
   "metadata": {},
   "outputs": [],
   "source": [
    "qa = RetrievalQA.from_chain_type(\n",
    "    llm = llm,\n",
    "    chain_type = \"stuff\", \n",
    "    retriever = docsearch.as_retriever(search_kwargs = {\"k\" : 3})\n",
    "    #return_source_documents = True\n",
    ")"
   ]
  },
  {
   "cell_type": "code",
   "execution_count": 91,
   "metadata": {},
   "outputs": [],
   "source": [
    "query1 = \"Why am I having headaches for the past 3 days?\"\n",
    "\n",
    "query2 = \"I have a tumor in my brain. Should I check it up?\""
   ]
  },
  {
   "cell_type": "code",
   "execution_count": 92,
   "metadata": {},
   "outputs": [
    {
     "name": "stderr",
     "output_type": "stream",
     "text": [
      "Setting `pad_token_id` to `eos_token_id`:50256 for open-end generation.\n",
      "Setting `pad_token_id` to `eos_token_id`:50256 for open-end generation.\n"
     ]
    }
   ],
   "source": [
    "res1_with_knowledge = qa.invoke(query1)\n",
    "res1_without_knowlege = llm.invoke(query1)"
   ]
  },
  {
   "cell_type": "code",
   "execution_count": 119,
   "metadata": {},
   "outputs": [
    {
     "name": "stdout",
     "output_type": "stream",
     "text": [
      "Use the following pieces of context to answer the question at the end. If you don't know the answer, just say that you don't know, don't try to make up an answer.\n",
      "\n",
      "There are episodic and chronic forms of tension-type\n",
      "headache. Patients with the episodic form suffer fromheadache on fewer than 15 days per month (180 days per\n",
      "year). The individual episodes of headache may last from\n",
      "30 minutes to several days. Patients with the chronic\n",
      "form suffer from headache on more than 15 days permonth (180 days per year).\n",
      "\n",
      "and tension-type headache.\n",
      "Symptomatic Headache\n",
      "Symptomatic headache is due to a structural lesion, in-\n",
      "fection, or inflammation of intra- and/or extracranial\n",
      "tissue. Its direct cause is often a pathological alteration of\n",
      "intracranial pressure, which excites nociceptive nerve\n",
      "endings in the meninges. The ICP may be either too high\n",
      "\n",
      "(particularly because of space-occupying lesions such ashematomas, tumors, and hydrocephalus) or too low\n",
      "(e. g., in the intracranial hypotension syndrome after a\n",
      "lumbar puncture).\n",
      "Symptomatic headache, however, is not necessarily\n",
      "due to neurological disease. Pathological conditions of\n",
      "the ears, nose, throat, eyes ,teeth ,or jaw can also cause\n",
      "\n",
      "Question: Why am I having headaches for the past 3 days?\n",
      "Helpful Answer: A symptom that can be\n",
      "slightly painless, but can be mild\n",
      "with a mild, but can be mild\n",
      "without a mild, but can be mild with a mild, but can be mild with a mild, but can be mild with a mild, but can be mild with a mild, but can be mild with a mild, but can be mild with a mild, but can be mild with a mild, but can be mild with a mild, but can be mild with a mild, but can be mild with a mild, but can be mild with a mild, but can be mild with a mild, but can be mild with a mild, but cannot be mild with a mild, but can be mild with a mild, but can be mild with a mild, but can be mild with a mild, but can be mild with a mild, but can be mild with a mild, but can be mild with a mild, but can be mild with a mild, but can be mild with a mild, but can be mild with a mild, but can be mild with a mild, but can be mild with a mild, but can be mild with a mild, but can be mild with a mild, but can be mild with a mild, but can be mild with a mild, but can be mild with a mild, but can be mild with a mild, but can be mild with a mild, but can be mild with a mild, but can be mild with a mild\n"
     ]
    }
   ],
   "source": [
    "print(res1_with_knowledge[\"result\"])"
   ]
  },
  {
   "cell_type": "code",
   "execution_count": 94,
   "metadata": {},
   "outputs": [
    {
     "name": "stdout",
     "output_type": "stream",
     "text": [
      "Why am I having headaches for the past 3 days?\n",
      "\n",
      "Here are a few things I could give you which I‪m in mind when you‪re working on the project. I want to talk about something new or new that should make my life better.\n",
      "If you are a business owner you would like to let me know in the comment section about the project on the blog and to send in your comments.\n",
      "What are your plans for the product? What are your plans for the next 2.5 months?\n",
      "The last three months have been a great period for me and I wish I could have done a little more, but I have to confess that sometimes I miss myself and I have to admit I just don‪t feel like putting in enough time to make things happen. I need to focus on how these things are going to get in it and I want to give them just the opposite of thinking about each other, but hopefully I will give a fair share of what I‪m doing for the future as a startup leader.\n",
      "What kind of business are you planning on doing next?\n",
      "I intend to spend a week and a half working on the product while I do the daily tasks for the new development team. While there might be a few more issues to be addressed there would be a lot of time to prepare for each other and to make a living using my knowledge to get things going. I just want to give a little bit more experience and to get to work on the product myself so that I can\n"
     ]
    }
   ],
   "source": [
    "print(res1_without_knowlege)"
   ]
  },
  {
   "cell_type": "code",
   "execution_count": 95,
   "metadata": {},
   "outputs": [],
   "source": [
    "from langchain.chains.conversation.memory import ConversationBufferMemory"
   ]
  },
  {
   "cell_type": "code",
   "execution_count": 112,
   "metadata": {},
   "outputs": [],
   "source": [
    "conv_mem = ConversationBufferMemory(\n",
    "    memory_key = \"chat-history\",\n",
    "    k = 5, \n",
    "    return_messsages = True\n",
    ")"
   ]
  },
  {
   "cell_type": "code",
   "execution_count": 113,
   "metadata": {},
   "outputs": [],
   "source": [
    "from langchain.agents import Tool"
   ]
  },
  {
   "cell_type": "code",
   "execution_count": 114,
   "metadata": {},
   "outputs": [
    {
     "name": "stderr",
     "output_type": "stream",
     "text": [
      "Setting `pad_token_id` to `eos_token_id`:50256 for open-end generation.\n"
     ]
    },
    {
     "data": {
      "text/plain": [
       "\"Use the following pieces of context to answer the question at the end. If you don't know the answer, just say that you don't know, don't try to make up an answer.\\n\\ninner canthus of the eye. There may be a continuous,\\nbackground pain in addition to the typical, lightning-\\nlike, shooting pain. In this condition, as in the otherneuralgias of the face, the pain is provoked by chewing\\nor by touch—here, by touching the eye. The attacks areoften accompanied by redness of the eye, swelling of the\\nnasal mucosa, and lacrimation. They can often be\\n\\nNystagmus coarse nystagmus toward the side of the lesion, in-creasing with gaze toward the side of the lesion,decreasing on closure of the eyescf. Fig. 11.1\\n\\nthe nerves to the eye muscles. Optic nerve dysfunction\\nonly rarely improves, but palsies of cranial nerves III, IV,\\nand VI usually resolve in two to three months. Fractures\\nof the petrous pyramid(s) may cause facial nerve palsy\\nas well as deafness, due to injury either to the vestibulo-\\ncochlear nerve or to the cochlea itself; when caused by a\\ntransverse fracture, deafness is usually permanent. A\\n\\nQuestion: My eyes hurt. What do i do?\\nHelpful Answer: I don't have a right answer. What i do is I have a right answer, but my eye injury\\nwill continue to worsen in five or six months.\\nIt is difficult to get any answers from the doctor or you can tell by\\nreferencing the doctor or you can tell by the doctor or you can tell by the doctor or you can tell by the doctor or you can tell by the doctor or you can tell by the doctor or you can tell by the patient or you can tell by the doctor or you can tell by the doctor or you can tell by the doctor or you can tell by the doctor or you can tell by the doctor or you can tell by the doctor or you can tell by the doctor or you can tell by the doctor or you can tell by the doctor or you can tell by the doctor or you can tell by the doctor or you will tell by the doctor or you can tell by the doctor or you can call by the doctor or you can tell by the doctor or you can tell by the doctor or you can tell by the doctor or you can tell by the doctor or you can tell by the doctor or you can tell by the doctor or you can tell by the doctor or you can tell by the doctor or you can tell by the doctor or you can tell by the doctor or you can tell by the doctor or you can tell by the doctor or you can tell by the doctor or you can tell by the doctor or you can tell by the doctor\""
      ]
     },
     "execution_count": 114,
     "metadata": {},
     "output_type": "execute_result"
    }
   ],
   "source": [
    "qa.run(query3)"
   ]
  },
  {
   "cell_type": "code",
   "execution_count": 115,
   "metadata": {},
   "outputs": [],
   "source": [
    "tools =  [\n",
    "    Tool(\n",
    "        name = \"Knowledge Base\",\n",
    "        func = qa.run,\n",
    "        description = (\n",
    "            'use this tool when answering general knowledge queries to get '\n",
    "            'more information about the topic'\n",
    "        )\n",
    "    )\n",
    "]"
   ]
  },
  {
   "cell_type": "code",
   "execution_count": 116,
   "metadata": {},
   "outputs": [],
   "source": [
    "from langchain.agents import initialize_agent"
   ]
  },
  {
   "cell_type": "code",
   "execution_count": 117,
   "metadata": {},
   "outputs": [],
   "source": [
    "agent = initialize_agent(\n",
    "    agent = \"chat-conversational-react-description\",\n",
    "    tools = tools,\n",
    "    llm = llm,\n",
    "    verbose = True,\n",
    "    max_iterations = 3,\n",
    "    early_stopping_method = \"generate\",\n",
    "    memory = conv_mem\n",
    ")"
   ]
  },
  {
   "cell_type": "code",
   "execution_count": null,
   "metadata": {},
   "outputs": [],
   "source": []
  },
  {
   "cell_type": "code",
   "execution_count": null,
   "metadata": {},
   "outputs": [],
   "source": []
  },
  {
   "cell_type": "code",
   "execution_count": null,
   "metadata": {},
   "outputs": [],
   "source": []
  },
  {
   "cell_type": "code",
   "execution_count": null,
   "metadata": {},
   "outputs": [],
   "source": []
  },
  {
   "cell_type": "code",
   "execution_count": null,
   "metadata": {},
   "outputs": [],
   "source": []
  },
  {
   "cell_type": "code",
   "execution_count": null,
   "metadata": {},
   "outputs": [],
   "source": []
  },
  {
   "cell_type": "code",
   "execution_count": null,
   "metadata": {},
   "outputs": [],
   "source": []
  },
  {
   "cell_type": "code",
   "execution_count": null,
   "metadata": {},
   "outputs": [],
   "source": []
  },
  {
   "cell_type": "code",
   "execution_count": null,
   "metadata": {},
   "outputs": [],
   "source": []
  },
  {
   "cell_type": "code",
   "execution_count": null,
   "metadata": {},
   "outputs": [],
   "source": []
  },
  {
   "cell_type": "code",
   "execution_count": null,
   "metadata": {},
   "outputs": [],
   "source": []
  },
  {
   "cell_type": "code",
   "execution_count": null,
   "metadata": {},
   "outputs": [],
   "source": []
  },
  {
   "cell_type": "code",
   "execution_count": null,
   "metadata": {},
   "outputs": [],
   "source": []
  },
  {
   "cell_type": "code",
   "execution_count": null,
   "metadata": {},
   "outputs": [],
   "source": []
  },
  {
   "cell_type": "code",
   "execution_count": null,
   "metadata": {},
   "outputs": [],
   "source": []
  },
  {
   "cell_type": "code",
   "execution_count": null,
   "metadata": {},
   "outputs": [],
   "source": []
  },
  {
   "cell_type": "code",
   "execution_count": null,
   "metadata": {},
   "outputs": [],
   "source": []
  },
  {
   "cell_type": "code",
   "execution_count": null,
   "metadata": {},
   "outputs": [],
   "source": []
  },
  {
   "cell_type": "code",
   "execution_count": null,
   "metadata": {},
   "outputs": [],
   "source": []
  },
  {
   "cell_type": "code",
   "execution_count": null,
   "metadata": {},
   "outputs": [],
   "source": []
  },
  {
   "cell_type": "code",
   "execution_count": null,
   "metadata": {},
   "outputs": [],
   "source": []
  },
  {
   "cell_type": "code",
   "execution_count": null,
   "metadata": {},
   "outputs": [],
   "source": []
  },
  {
   "cell_type": "code",
   "execution_count": null,
   "metadata": {},
   "outputs": [],
   "source": []
  },
  {
   "cell_type": "code",
   "execution_count": null,
   "metadata": {},
   "outputs": [],
   "source": []
  },
  {
   "cell_type": "code",
   "execution_count": null,
   "metadata": {},
   "outputs": [],
   "source": []
  },
  {
   "cell_type": "code",
   "execution_count": null,
   "metadata": {},
   "outputs": [],
   "source": []
  },
  {
   "cell_type": "code",
   "execution_count": null,
   "metadata": {},
   "outputs": [],
   "source": []
  }
 ],
 "metadata": {
  "kernelspec": {
   "display_name": "Python 3.8.10 64-bit",
   "language": "python",
   "name": "python3"
  },
  "language_info": {
   "codemirror_mode": {
    "name": "ipython",
    "version": 3
   },
   "file_extension": ".py",
   "mimetype": "text/x-python",
   "name": "python",
   "nbconvert_exporter": "python",
   "pygments_lexer": "ipython3",
   "version": "3.8.10"
  },
  "orig_nbformat": 4,
  "vscode": {
   "interpreter": {
    "hash": "e7370f93d1d0cde622a1f8e1c04877d8463912d04d973331ad4851f04de6915a"
   }
  }
 },
 "nbformat": 4,
 "nbformat_minor": 2
}
