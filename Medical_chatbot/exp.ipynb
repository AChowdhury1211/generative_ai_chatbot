{
 "cells": [
  {
   "cell_type": "code",
   "execution_count": 2,
   "metadata": {},
   "outputs": [],
   "source": [
    "from langchain import PromptTemplate\n",
    "from langchain.chains import RetrievalQA\n",
    "from langchain.embeddings import HuggingFaceEmbeddings\n",
    "from langchain.vectorstores import Pinecone\n",
    "import pinecone\n",
    "from langchain.document_loaders import PyPDFLoader, DirectoryLoader\n",
    "from langchain.text_splitter import RecursiveCharacterTextSplitter\n",
    "from langchain.prompts import PromptTemplate\n",
    "from tqdm.autonotebook import tqdm\n",
    "import os"
   ]
  },
  {
   "cell_type": "code",
   "execution_count": 4,
   "metadata": {},
   "outputs": [],
   "source": [
    "def load_pdf(path):\n",
    "    loader = DirectoryLoader(path = path, glob= \"*.pdf\", loader_cls= PyPDFLoader)\n",
    "    doc = loader.load()\n",
    "\n",
    "    return doc"
   ]
  },
  {
   "cell_type": "code",
   "execution_count": 5,
   "metadata": {},
   "outputs": [],
   "source": [
    "parent_dir = \"/config/workspace/Medical_chatbot\"\n",
    "data_dir = \"data\"\n",
    "path = os.path.join(parent_dir, data_dir)"
   ]
  },
  {
   "cell_type": "code",
   "execution_count": 6,
   "metadata": {},
   "outputs": [],
   "source": [
    "book = load_pdf(path)"
   ]
  },
  {
   "cell_type": "code",
   "execution_count": 52,
   "metadata": {},
   "outputs": [],
   "source": [
    "split_text = RecursiveCharacterTextSplitter(chunk_size = 500, chunk_overlap = 30)"
   ]
  },
  {
   "cell_type": "code",
   "execution_count": 53,
   "metadata": {},
   "outputs": [],
   "source": [
    "text_chunks = split_text.split_documents(book)"
   ]
  },
  {
   "cell_type": "code",
   "execution_count": 54,
   "metadata": {},
   "outputs": [
    {
     "data": {
      "text/plain": [
       "list"
      ]
     },
     "execution_count": 54,
     "metadata": {},
     "output_type": "execute_result"
    }
   ],
   "source": [
    "type(text_chunks)"
   ]
  },
  {
   "cell_type": "code",
   "execution_count": 55,
   "metadata": {},
   "outputs": [
    {
     "data": {
      "text/plain": [
       "2554"
      ]
     },
     "execution_count": 55,
     "metadata": {},
     "output_type": "execute_result"
    }
   ],
   "source": [
    "len(text_chunks)"
   ]
  },
  {
   "cell_type": "code",
   "execution_count": 56,
   "metadata": {},
   "outputs": [
    {
     "data": {
      "text/plain": [
       "306"
      ]
     },
     "execution_count": 56,
     "metadata": {},
     "output_type": "execute_result"
    }
   ],
   "source": [
    "len(book)"
   ]
  },
  {
   "cell_type": "code",
   "execution_count": 51,
   "metadata": {},
   "outputs": [
    {
     "data": {
      "text/plain": [
       "[Document(page_content='times be appreciated by viewing the eyes tangentially\\nfrom above (Fig. 3.7).\\nTesting of ocular motility. The anatomy of the six ex-\\ntraocular muscles and the three cranial nerves innervat-\\ning them is shown in Fig. 3.8a, while the function of the\\nextraocular muscles is described in Fig. 3.3 and depicted\\nin Fig. 3.8b. Eye movements are tested by having the\\npatient keep the head stationary and follow the ex-\\naminer’s finger with his or her eyes. The motility of the', metadata={'source': '/config/workspace/Medical_chatbot/data/Fundamentals-Neurology.pdf', 'page': 31}),\n",
       " Document(page_content='in Fig. 3.8b. Eye movements are tested by having the\\npatient keep the head stationary and follow the ex-\\naminer’s finger with his or her eyes. The motility of the\\nglobes is assessed along the vertical and horizontal axes.\\nIf abnormalities of eye movement can be seen directly\\nby the examiner, or if the patient reports double vision\\n(diplopia), then the manner in which eye movement isrestricted (including any abnormality of the resting\\nposition of the eyes) and the type of double vision', metadata={'source': '/config/workspace/Medical_chatbot/data/Fundamentals-Neurology.pdf', 'page': 31}),\n",
       " Document(page_content='(diplopia), then the manner in which eye movement isrestricted (including any abnormality of the resting\\nposition of the eyes) and the type of double vision\\nenable the examiner to determine which muscle (or\\nmuscles) is (are) paretic and, therefore, which cranialnerve is dysfunctional (paralytic strabismus ). The eye\\nmuscles may, however, be weakened by intrinsic musclelesions, rather than by cranial nerve palsies. A general', metadata={'source': '/config/workspace/Medical_chatbot/data/Fundamentals-Neurology.pdf', 'page': 31}),\n",
       " Document(page_content='muscles may, however, be weakened by intrinsic musclelesions, rather than by cranial nerve palsies. A general\\nprinciple for the interpretation of findings is that thepositions of the eyes are farthest apart, and diplopia is\\ntherefore worst, when the patient looks in the direction\\nof function of the paretic muscle (p. 189 ff.).\\nA conjugate gaze palsy (p. 188) is the inability to per-\\nform a conjugate eye movement to direct the gaze in a\\nparticular direction, either horizontally or vertically. In', metadata={'source': '/config/workspace/Medical_chatbot/data/Fundamentals-Neurology.pdf', 'page': 31}),\n",
       " Document(page_content='A conjugate gaze palsy (p. 188) is the inability to per-\\nform a conjugate eye movement to direct the gaze in a\\nparticular direction, either horizontally or vertically. In\\nsuch patients, the lesion is not in the peripheral portion\\nof a cranial nerve; it is located centrally, within the brain\\n(asupranuclear lesion, i. e., one that lies above the nuclei\\nof the cranial nerves that innervate the extraocular', metadata={'source': '/config/workspace/Medical_chatbot/data/Fundamentals-Neurology.pdf', 'page': 31}),\n",
       " Document(page_content='of a cranial nerve; it is located centrally, within the brain\\n(asupranuclear lesion, i. e., one that lies above the nuclei\\nof the cranial nerves that innervate the extraocular\\nmuscles). In contrast to peripheral lesions, the eyes re-main parallel and there is no double vision.\\nWhen testing eye movements, the examiner should\\nalso look for nystagmus (see below and p. 184). Devia-\\ntions from the parallel axis are best detected by observ-\\ning the reflected images on the patient’s cornea.', metadata={'source': '/config/workspace/Medical_chatbot/data/Fundamentals-Neurology.pdf', 'page': 31}),\n",
       " Document(page_content='also look for nystagmus (see below and p. 184). Devia-\\ntions from the parallel axis are best detected by observ-\\ning the reflected images on the patient’s cornea.\\nA nonparallel (skewed) position of the two eyes\\nwithout diplopia implies that the patient has concomi-\\ntant strabismus, a result of longstanding impaired vi-\\nsion in one eye (usually from birth or early childhood).\\nNo cranial nerve palsy is present. Concomitant stra-\\nbismus can be demonstrated with the aid of a cover test', metadata={'source': '/config/workspace/Medical_chatbot/data/Fundamentals-Neurology.pdf', 'page': 31}),\n",
       " Document(page_content='sion in one eye (usually from birth or early childhood).\\nNo cranial nerve palsy is present. Concomitant stra-\\nbismus can be demonstrated with the aid of a cover test\\n(Fig. 3.9). The patient keeps both eyes open while the\\nexaminer covers one eye and asks the patient to fix hisor her gaze on a particular object in the room. The cover\\nis then rapidly switched to the other eye, so that the pre-\\nviously covered eye must jump into position to keep the', metadata={'source': '/config/workspace/Medical_chatbot/data/Fundamentals-Neurology.pdf', 'page': 31}),\n",
       " Document(page_content='is then rapidly switched to the other eye, so that the pre-\\nviously covered eye must jump into position to keep the\\ngaze fixated on the same object. The initially uncovered\\neye, now covered, deviates to one side, as can be shown\\nby switching the cover back again (alternating concomi-\\ntant strabismus; usually divergent, but sometimes con-\\nvergent).\\nAssessment of the pupils. The examiner should note\\ntheshape (round or oblong) and sizeof the pupils. Nor-', metadata={'source': '/config/workspace/Medical_chatbot/data/Fundamentals-Neurology.pdf', 'page': 31}),\n",
       " Document(page_content='tant strabismus; usually divergent, but sometimes con-\\nvergent).\\nAssessment of the pupils. The examiner should note\\ntheshape (round or oblong) and sizeof the pupils. Nor-\\nmal pupils are generally of equal size and react equally\\nto light. Inequality of the pupils is called anisocoria;a\\nsmall degree of anisocoria is normal in some individu-\\nals. When the examiner illuminates the pupil of one eye,\\nthere should be reflex constriction of that pupil (the', metadata={'source': '/config/workspace/Medical_chatbot/data/Fundamentals-Neurology.pdf', 'page': 31})]"
      ]
     },
     "execution_count": 51,
     "metadata": {},
     "output_type": "execute_result"
    }
   ],
   "source": [
    "text_chunks[300:310]"
   ]
  },
  {
   "cell_type": "code",
   "execution_count": 61,
   "metadata": {},
   "outputs": [
    {
     "data": {
      "text/plain": [
       "Document(page_content='I\\n1\\n2\\n3\\n4\\n5\\n6\\n7\\n8\\n9\\n10\\n11\\n12\\n13\\n14\\n15Overview\\nFundamentals\\nThe Clinical Interview in Neurology\\nThe Neurological Examination\\nAncillary Tests in Neurology\\nTopical Diagnosis and Differential\\nDiagnosis of Neurologic Syndromes\\nDiseases of the Brain\\nand Meninges\\nDiseases of the Spinal Cord\\nMultiple Sclerosis\\nand Other Myelinopathies\\nEpilepsy and Its\\nDifferential Diagnosis\\nPolyradiculopathy\\nand Polyneuropathy\\nDiseases of the Cranial Nerves\\nDiseases of the Spinal Nerve Roots\\nand Peripheral Nerves', metadata={'source': '/config/workspace/Medical_chatbot/data/Fundamentals-Neurology.pdf', 'page': 2})"
      ]
     },
     "execution_count": 61,
     "metadata": {},
     "output_type": "execute_result"
    }
   ],
   "source": [
    "text_chunks[1]"
   ]
  },
  {
   "cell_type": "code",
   "execution_count": 58,
   "metadata": {},
   "outputs": [
    {
     "data": {
      "text/plain": [
       "['Mumenthaler / Mattle, Fundamentals of Neurology © 2006 Thieme\\nAll rights reserved. Usage subject to terms and conditions of license.',\n",
       " 'I\\n1\\n2\\n3\\n4\\n5\\n6\\n7\\n8\\n9\\n10\\n11\\n12\\n13\\n14\\n15Overview\\nFundamentals\\nThe Clinical Interview in Neurology\\nThe Neurological Examination\\nAncillary Tests in Neurology\\nTopical Diagnosis and Differential\\nDiagnosis of Neurologic Syndromes\\nDiseases of the Brain\\nand Meninges\\nDiseases of the Spinal Cord\\nMultiple Sclerosis\\nand Other Myelinopathies\\nEpilepsy and Its\\nDifferential Diagnosis\\nPolyradiculopathy\\nand Polyneuropathy\\nDiseases of the Cranial Nerves\\nDiseases of the Spinal Nerve Roots\\nand Peripheral Nerves',\n",
       " 'and Peripheral Nerves\\nPainful Syndromes\\nDiseases of Muscle (Myopathies)\\nDiseases of the Autonomic\\nNervous System\\nIndex\\nMumenthaler / Mattle, Fundamentals of Neurology © 2006 Thieme\\nAll rights reserved. Usage subject to terms and conditions of license.',\n",
       " 'II\\nIllustration by Robert Wyss\\nMumenthaler / Mattle, Fundamentals of Neurology © 2006 Thieme\\nAll rights reserved. Usage subject to terms and conditions of license.',\n",
       " 'III\\nFundamentals of Neurology\\nAn Illustrated Guide\\nMark Mumenthaler, M.D.\\nProfessor Emeritus of Neurology\\nFormer Head of the Department\\nof Neurology\\nBerne UniversityInselspital Berne\\nSwitzerland\\nHeinrich Mattle, M.D.\\nProfessor of NeurologyBerne UniversityInselspital Berne\\nSwitzerland\\nTranslated and adapted by Ethan Taub, M.D.\\n396 illustrations\\nThieme\\nStuttgart · New York\\nMumenthaler / Mattle, Fundamentals of Neurology © 2006 Thieme',\n",
       " 'All rights reserved. Usage subject to terms and conditions of license.',\n",
       " 'IV\\nLibrary of Congress Cataloging-in-Publication Data\\nMumenthaler, Marco, 1925-\\n[Grundkurs Neurologie. English]\\nNeurology : an illustrated guide / Mark Mumenthaler,Heinrich Mattle ; translated by Ethan Taub.\\np. ; cm.\\nIncludes index.“Revised translation of the German edition . . . Grund-\\nkurs Neurologie. Illustriertes Basiswissen für das Stu-\\ndium” − T.p. verso.\\nISBN 1-58890-450-4 (GTV : alk. paper) −ISBN 3-13-136451-3 (TNY : alk. paper)1. Neurology—Outlines, syllabi, etc. I. Mattle, Heinrich.',\n",
       " 'II. Title. [DNLM: 1. Nervous System Diseases—Hand-\\nbooks. WL 39 M962g 2006a]\\nRC357.M8613 2006616.8−dc22 2005032828\\nThis book is an authorized and revised translation of the\\nGerman edition published and copyrighted 2002 byGeorg Thieme Verlag, Stuttgart, Germany. Title of theGerman edition: Grundkurs Neurologie. Illustriertes\\nBasiswissen für das Studium\\nTranslator: Ethan Taub, M.D., Klinik im Park, Zurich,\\nSwitzerland\\nIllustrators: Malgorzata and Piotr Gusta,\\nChampigny sur Marne, France',\n",
       " 'Champigny sur Marne, France\\n© 2006 Georg Thieme Verlag,\\nRüdigerstrasse 14, 70469 Stuttgart, Germanyhttp://www.thieme.de\\nThieme New York, 333 Seventh Avenue,\\nNew York, NY 10001 USAhttp://www.thieme.com\\nTypesetting by primustype Hurler GmbH, Notzingen\\nPrinted in Germany by Appl, Wemding\\nISBN 3−13-136451−3 (GTV)\\nISBN 1−58890-450−4 (TNY) 123456Important note: Medicine is an ever-changing science\\nundergoing continual development. Research and clini-',\n",
       " 'cal experience are continually expanding our knowl-edge, in particular our knowledge of proper treatment\\nand drug therapy. Insofar as this book mentions any do-\\nsage or application, readers may rest assured that the\\nauthors, editors, and publishers have made every effort\\nto ensure that such references are in accordance with\\nthe state of knowledge at the time of production of the\\nbook.\\nNevertheless, this does not involve, imply, or express']"
      ]
     },
     "execution_count": 58,
     "metadata": {},
     "output_type": "execute_result"
    }
   ],
   "source": [
    "[i.page_content for i in text_chunks[:10]]"
   ]
  },
  {
   "cell_type": "code",
   "execution_count": null,
   "metadata": {},
   "outputs": [],
   "source": []
  },
  {
   "cell_type": "code",
   "execution_count": null,
   "metadata": {},
   "outputs": [],
   "source": []
  },
  {
   "cell_type": "code",
   "execution_count": null,
   "metadata": {},
   "outputs": [],
   "source": []
  },
  {
   "cell_type": "code",
   "execution_count": null,
   "metadata": {},
   "outputs": [],
   "source": []
  },
  {
   "cell_type": "code",
   "execution_count": null,
   "metadata": {},
   "outputs": [],
   "source": []
  },
  {
   "cell_type": "code",
   "execution_count": null,
   "metadata": {},
   "outputs": [],
   "source": []
  },
  {
   "cell_type": "code",
   "execution_count": null,
   "metadata": {},
   "outputs": [],
   "source": []
  },
  {
   "cell_type": "code",
   "execution_count": null,
   "metadata": {},
   "outputs": [],
   "source": []
  },
  {
   "cell_type": "code",
   "execution_count": null,
   "metadata": {},
   "outputs": [],
   "source": []
  },
  {
   "cell_type": "code",
   "execution_count": null,
   "metadata": {},
   "outputs": [],
   "source": []
  },
  {
   "cell_type": "code",
   "execution_count": null,
   "metadata": {},
   "outputs": [],
   "source": []
  },
  {
   "cell_type": "code",
   "execution_count": null,
   "metadata": {},
   "outputs": [],
   "source": []
  },
  {
   "cell_type": "code",
   "execution_count": null,
   "metadata": {},
   "outputs": [],
   "source": []
  },
  {
   "cell_type": "code",
   "execution_count": null,
   "metadata": {},
   "outputs": [],
   "source": []
  },
  {
   "cell_type": "code",
   "execution_count": null,
   "metadata": {},
   "outputs": [],
   "source": []
  },
  {
   "cell_type": "code",
   "execution_count": null,
   "metadata": {},
   "outputs": [],
   "source": []
  },
  {
   "cell_type": "code",
   "execution_count": null,
   "metadata": {},
   "outputs": [],
   "source": []
  },
  {
   "cell_type": "code",
   "execution_count": null,
   "metadata": {},
   "outputs": [],
   "source": []
  },
  {
   "cell_type": "code",
   "execution_count": null,
   "metadata": {},
   "outputs": [],
   "source": []
  },
  {
   "cell_type": "code",
   "execution_count": null,
   "metadata": {},
   "outputs": [],
   "source": []
  },
  {
   "cell_type": "code",
   "execution_count": null,
   "metadata": {},
   "outputs": [],
   "source": []
  },
  {
   "cell_type": "code",
   "execution_count": null,
   "metadata": {},
   "outputs": [],
   "source": []
  },
  {
   "cell_type": "code",
   "execution_count": null,
   "metadata": {},
   "outputs": [],
   "source": []
  },
  {
   "cell_type": "code",
   "execution_count": null,
   "metadata": {},
   "outputs": [],
   "source": []
  },
  {
   "cell_type": "code",
   "execution_count": null,
   "metadata": {},
   "outputs": [],
   "source": []
  },
  {
   "cell_type": "code",
   "execution_count": null,
   "metadata": {},
   "outputs": [],
   "source": []
  },
  {
   "cell_type": "code",
   "execution_count": null,
   "metadata": {},
   "outputs": [],
   "source": []
  },
  {
   "cell_type": "code",
   "execution_count": null,
   "metadata": {},
   "outputs": [],
   "source": []
  },
  {
   "cell_type": "code",
   "execution_count": null,
   "metadata": {},
   "outputs": [],
   "source": []
  },
  {
   "cell_type": "code",
   "execution_count": null,
   "metadata": {},
   "outputs": [],
   "source": []
  },
  {
   "cell_type": "code",
   "execution_count": null,
   "metadata": {},
   "outputs": [],
   "source": []
  },
  {
   "cell_type": "code",
   "execution_count": null,
   "metadata": {},
   "outputs": [],
   "source": []
  },
  {
   "cell_type": "code",
   "execution_count": null,
   "metadata": {},
   "outputs": [],
   "source": []
  },
  {
   "cell_type": "code",
   "execution_count": null,
   "metadata": {},
   "outputs": [],
   "source": []
  },
  {
   "cell_type": "code",
   "execution_count": null,
   "metadata": {},
   "outputs": [],
   "source": []
  },
  {
   "cell_type": "code",
   "execution_count": null,
   "metadata": {},
   "outputs": [],
   "source": []
  },
  {
   "cell_type": "code",
   "execution_count": null,
   "metadata": {},
   "outputs": [],
   "source": []
  },
  {
   "cell_type": "code",
   "execution_count": null,
   "metadata": {},
   "outputs": [],
   "source": []
  },
  {
   "cell_type": "code",
   "execution_count": null,
   "metadata": {},
   "outputs": [],
   "source": []
  },
  {
   "cell_type": "code",
   "execution_count": null,
   "metadata": {},
   "outputs": [],
   "source": []
  },
  {
   "cell_type": "code",
   "execution_count": null,
   "metadata": {},
   "outputs": [],
   "source": []
  },
  {
   "cell_type": "code",
   "execution_count": null,
   "metadata": {},
   "outputs": [],
   "source": []
  },
  {
   "cell_type": "code",
   "execution_count": null,
   "metadata": {},
   "outputs": [],
   "source": []
  }
 ],
 "metadata": {
  "kernelspec": {
   "display_name": "Python 3.8.10 64-bit",
   "language": "python",
   "name": "python3"
  },
  "language_info": {
   "codemirror_mode": {
    "name": "ipython",
    "version": 3
   },
   "file_extension": ".py",
   "mimetype": "text/x-python",
   "name": "python",
   "nbconvert_exporter": "python",
   "pygments_lexer": "ipython3",
   "version": "3.8.10"
  },
  "orig_nbformat": 4,
  "vscode": {
   "interpreter": {
    "hash": "e7370f93d1d0cde622a1f8e1c04877d8463912d04d973331ad4851f04de6915a"
   }
  }
 },
 "nbformat": 4,
 "nbformat_minor": 2
}
